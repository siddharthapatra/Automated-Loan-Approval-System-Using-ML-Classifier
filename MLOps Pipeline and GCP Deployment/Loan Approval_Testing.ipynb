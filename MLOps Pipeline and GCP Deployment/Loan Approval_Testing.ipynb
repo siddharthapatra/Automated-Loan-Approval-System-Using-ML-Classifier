{
 "cells": [
  {
   "cell_type": "markdown",
   "metadata": {},
   "source": [
    "# Project: Automated Loan Approval System using ML Classifier\n",
    "\n",
    "## Made By: Siddhartha Patra"
   ]
  },
  {
   "cell_type": "code",
   "execution_count": 2,
   "metadata": {
    "colab": {
     "base_uri": "https://localhost:8080/"
    },
    "executionInfo": {
     "elapsed": 49462,
     "status": "ok",
     "timestamp": 1644309030315,
     "user": {
      "displayName": "Siddhi Jadhav",
      "photoUrl": "https://lh3.googleusercontent.com/a/default-user=s64",
      "userId": "08402691859170607175"
     },
     "user_tz": -330
    },
    "id": "4faWDjO-b7e3",
    "outputId": "9efd6576-2940-4b09-d93d-a1b8054ac64d"
   },
   "outputs": [],
   "source": [
    "# Installing Dependencies\n",
    "#!pip install fancyimpute==0.7.0\n",
    "#!pip install imblearn==0.0\n",
    "#!pip install joblib==1.0.1\n",
    "#!pip install matplotlib==3.3.4\n",
    "#!pip install numpy==1.20.1\n",
    "#!pip install pandas==1.3.5\n",
    "#!pip install scikit_learn==0.24.1\n",
    "#!pip install scipy==1.6.2\n",
    "#!pip install seaborn==0.11.1\n",
    "#!pip install six==1.15.0\n",
    "#!pip install xgboost==1.5.1"
   ]
  },
  {
   "cell_type": "code",
   "execution_count": 3,
   "metadata": {
    "id": "OtBL3Tn4TZk3"
   },
   "outputs": [],
   "source": [
    "from fancyimpute import KNN, SoftImpute"
   ]
  },
  {
   "cell_type": "code",
   "execution_count": 5,
   "metadata": {
    "id": "etTcI_2OTfnU"
   },
   "outputs": [],
   "source": [
    "import pandas as pd\n",
    "import numpy as np\n",
    "import os\n",
    "import matplotlib.pyplot as plt\n",
    "import seaborn as sns\n",
    "import statistics\n",
    "from sklearn.model_selection import train_test_split,GridSearchCV,cross_val_score\n",
    "from sklearn.preprocessing import LabelBinarizer,StandardScaler,OrdinalEncoder\n",
    "from sklearn.metrics import confusion_matrix\n",
    "from sklearn.metrics import roc_auc_score\n",
    "from sklearn.metrics import roc_curve\n",
    "from scipy.stats import boxcox\n",
    "from sklearn.linear_model import LogisticRegression,RidgeClassifier, PassiveAggressiveClassifier\n",
    "from sklearn import metrics\n",
    "from sklearn import preprocessing\n",
    "from sklearn.ensemble import RandomForestClassifier, GradientBoostingClassifier\n",
    "from xgboost import plot_importance\n",
    "from matplotlib import pyplot\n",
    "from sklearn.naive_bayes import BernoulliNB\n",
    "from sklearn.neighbors import KNeighborsClassifier\n",
    "from sklearn.svm import LinearSVC\n",
    "from sklearn.tree import DecisionTreeClassifier\n",
    "from xgboost import XGBClassifier\n",
    "import joblib\n",
    "\n",
    "%matplotlib inline"
   ]
  },
  {
   "cell_type": "code",
   "execution_count": 7,
   "metadata": {
    "colab": {
     "base_uri": "https://localhost:8080/"
    },
    "id": "8xY7enCcUD43",
    "outputId": "6e2c8390-71eb-4932-f0f6-986b158be43b"
   },
   "outputs": [],
   "source": [
    "#!pip install imblearn==0.0"
   ]
  },
  {
   "cell_type": "code",
   "execution_count": 8,
   "metadata": {
    "id": "wv-OTRB4UGB3"
   },
   "outputs": [],
   "source": [
    "# Import necessary modules and perform modifications for compatibility\n",
    "import operator\n",
    "\n",
    "import six\n",
    "import sys\n",
    "sys.modules['sklearn.externals.six'] = six\n",
    "\n",
    "import sklearn.neighbors._base\n",
    "sys.modules['sklearn.neighbors.base'] = sklearn.neighbors._base\n",
    "\n",
    "from sklearn.utils import _safe_indexing\n",
    "sys.modules['sklearn.utils.safe_indexing'] = sklearn.utils._safe_indexing"
   ]
  },
  {
   "cell_type": "code",
   "execution_count": 9,
   "metadata": {
    "id": "BRTkrzKcUTpW"
   },
   "outputs": [],
   "source": [
    "# Import SMOTE from imblearn.over_sampling\n",
    "from imblearn.over_sampling import SMOTE"
   ]
  },
  {
   "cell_type": "code",
   "execution_count": 10,
   "metadata": {
    "id": "U8D_ER-2UZWT"
   },
   "outputs": [],
   "source": [
    "# Importing Test Data\n",
    "test = pd.read_csv(\"https://s3.amazonaws.com/hackerday.datascience/358/test_data.csv\")"
   ]
  },
  {
   "cell_type": "code",
   "execution_count": 11,
   "metadata": {
    "id": "XFGCzoBIUn0Y"
   },
   "outputs": [],
   "source": [
    "# List of categorical columns\n",
    "cat_cols = ['Term','Years in current job','Home Ownership','Purpose']\n",
    "\n",
    "# Encoding categorical variables using factorize function\n",
    "for c in cat_cols:\n",
    "    test[c] = pd.factorize(test[c])[0]"
   ]
  },
  {
   "cell_type": "code",
   "execution_count": 12,
   "metadata": {
    "colab": {
     "base_uri": "https://localhost:8080/"
    },
    "executionInfo": {
     "elapsed": 9,
     "status": "ok",
     "timestamp": 1644310183580,
     "user": {
      "displayName": "Siddhi Jadhav",
      "photoUrl": "https://lh3.googleusercontent.com/a/default-user=s64",
      "userId": "08402691859170607175"
     },
     "user_tz": -330
    },
    "id": "GD_EgreRUqTB",
    "outputId": "5fa03c5b-6343-4ed3-b8e5-fd66e8fec506"
   },
   "outputs": [
    {
     "name": "stdout",
     "output_type": "stream",
     "text": [
      "[SoftImpute] Max Singular Value of X_init = 220732.319189\n",
      "[SoftImpute] Iter 1: observed MAE=393.868714 rank=4\n",
      "[SoftImpute] Iter 2: observed MAE=393.835770 rank=4\n",
      "[SoftImpute] Iter 3: observed MAE=393.823069 rank=4\n",
      "[SoftImpute] Iter 4: observed MAE=393.816892 rank=4\n",
      "[SoftImpute] Iter 5: observed MAE=393.813120 rank=4\n",
      "[SoftImpute] Iter 6: observed MAE=393.810394 rank=4\n",
      "[SoftImpute] Iter 7: observed MAE=393.808205 rank=4\n",
      "[SoftImpute] Iter 8: observed MAE=393.806333 rank=4\n",
      "[SoftImpute] Iter 9: observed MAE=393.804668 rank=4\n",
      "[SoftImpute] Iter 10: observed MAE=393.803152 rank=4\n",
      "[SoftImpute] Iter 11: observed MAE=393.801748 rank=4\n",
      "[SoftImpute] Iter 12: observed MAE=393.800437 rank=4\n",
      "[SoftImpute] Iter 13: observed MAE=393.799203 rank=4\n",
      "[SoftImpute] Iter 14: observed MAE=393.798037 rank=4\n",
      "[SoftImpute] Iter 15: observed MAE=393.796931 rank=4\n",
      "[SoftImpute] Iter 16: observed MAE=393.795881 rank=4\n",
      "[SoftImpute] Iter 17: observed MAE=393.794882 rank=4\n",
      "[SoftImpute] Iter 18: observed MAE=393.793931 rank=4\n",
      "[SoftImpute] Iter 19: observed MAE=393.793024 rank=4\n",
      "[SoftImpute] Iter 20: observed MAE=393.792160 rank=4\n",
      "[SoftImpute] Iter 21: observed MAE=393.791335 rank=4\n",
      "[SoftImpute] Iter 22: observed MAE=393.790548 rank=4\n",
      "[SoftImpute] Iter 23: observed MAE=393.789797 rank=4\n",
      "[SoftImpute] Iter 24: observed MAE=393.789081 rank=4\n",
      "[SoftImpute] Iter 25: observed MAE=393.788397 rank=4\n",
      "[SoftImpute] Iter 26: observed MAE=393.787744 rank=4\n",
      "[SoftImpute] Iter 27: observed MAE=393.787120 rank=4\n",
      "[SoftImpute] Iter 28: observed MAE=393.786525 rank=4\n",
      "[SoftImpute] Iter 29: observed MAE=393.785956 rank=4\n",
      "[SoftImpute] Iter 30: observed MAE=393.785414 rank=4\n",
      "[SoftImpute] Iter 31: observed MAE=393.784895 rank=4\n",
      "[SoftImpute] Iter 32: observed MAE=393.784401 rank=4\n",
      "[SoftImpute] Iter 33: observed MAE=393.783928 rank=4\n",
      "[SoftImpute] Iter 34: observed MAE=393.783477 rank=4\n",
      "[SoftImpute] Iter 35: observed MAE=393.783046 rank=4\n",
      "[SoftImpute] Iter 36: observed MAE=393.782635 rank=4\n",
      "[SoftImpute] Iter 37: observed MAE=393.782242 rank=4\n",
      "[SoftImpute] Iter 38: observed MAE=393.781867 rank=4\n",
      "[SoftImpute] Iter 39: observed MAE=393.781509 rank=4\n",
      "[SoftImpute] Iter 40: observed MAE=393.781166 rank=4\n",
      "[SoftImpute] Iter 41: observed MAE=393.780840 rank=4\n",
      "[SoftImpute] Iter 42: observed MAE=393.780528 rank=4\n",
      "[SoftImpute] Iter 43: observed MAE=393.780230 rank=4\n",
      "[SoftImpute] Iter 44: observed MAE=393.779946 rank=4\n",
      "[SoftImpute] Iter 45: observed MAE=393.779674 rank=4\n",
      "[SoftImpute] Iter 46: observed MAE=393.779415 rank=4\n",
      "[SoftImpute] Iter 47: observed MAE=393.779167 rank=4\n",
      "[SoftImpute] Iter 48: observed MAE=393.778931 rank=4\n",
      "[SoftImpute] Iter 49: observed MAE=393.778705 rank=4\n",
      "[SoftImpute] Iter 50: observed MAE=393.778489 rank=4\n",
      "[SoftImpute] Iter 51: observed MAE=393.778284 rank=4\n",
      "[SoftImpute] Iter 52: observed MAE=393.778087 rank=4\n",
      "[SoftImpute] Iter 53: observed MAE=393.777899 rank=4\n",
      "[SoftImpute] Iter 54: observed MAE=393.777720 rank=4\n",
      "[SoftImpute] Iter 55: observed MAE=393.777549 rank=4\n",
      "[SoftImpute] Iter 56: observed MAE=393.777385 rank=4\n",
      "[SoftImpute] Iter 57: observed MAE=393.777229 rank=4\n",
      "[SoftImpute] Iter 58: observed MAE=393.777080 rank=4\n",
      "[SoftImpute] Iter 59: observed MAE=393.776938 rank=4\n",
      "[SoftImpute] Iter 60: observed MAE=393.776802 rank=4\n",
      "[SoftImpute] Iter 61: observed MAE=393.776672 rank=4\n",
      "[SoftImpute] Iter 62: observed MAE=393.776548 rank=4\n",
      "[SoftImpute] Iter 63: observed MAE=393.776430 rank=4\n",
      "[SoftImpute] Iter 64: observed MAE=393.776317 rank=4\n",
      "[SoftImpute] Iter 65: observed MAE=393.776209 rank=4\n",
      "[SoftImpute] Iter 66: observed MAE=393.776106 rank=4\n",
      "[SoftImpute] Iter 67: observed MAE=393.776008 rank=4\n",
      "[SoftImpute] Iter 68: observed MAE=393.775914 rank=4\n",
      "[SoftImpute] Iter 69: observed MAE=393.775824 rank=4\n",
      "[SoftImpute] Iter 70: observed MAE=393.775739 rank=4\n",
      "[SoftImpute] Iter 71: observed MAE=393.775657 rank=4\n",
      "[SoftImpute] Iter 72: observed MAE=393.775579 rank=4\n",
      "[SoftImpute] Iter 73: observed MAE=393.775504 rank=4\n",
      "[SoftImpute] Iter 74: observed MAE=393.775433 rank=4\n",
      "[SoftImpute] Iter 75: observed MAE=393.775365 rank=4\n",
      "[SoftImpute] Iter 76: observed MAE=393.775300 rank=4\n",
      "[SoftImpute] Iter 77: observed MAE=393.775238 rank=4\n",
      "[SoftImpute] Iter 78: observed MAE=393.775179 rank=4\n",
      "[SoftImpute] Iter 79: observed MAE=393.775122 rank=4\n",
      "[SoftImpute] Iter 80: observed MAE=393.775068 rank=4\n",
      "[SoftImpute] Iter 81: observed MAE=393.775017 rank=4\n",
      "[SoftImpute] Iter 82: observed MAE=393.774968 rank=4\n",
      "[SoftImpute] Iter 83: observed MAE=393.774921 rank=4\n",
      "[SoftImpute] Stopped after iteration 83 for lambda=4414.646384\n"
     ]
    }
   ],
   "source": [
    "#Imputing missing data with soft impute\n",
    "updated_test_data=pd.DataFrame(data=SoftImpute().fit_transform(test[test.columns[3:19]],), columns=test[test.columns[3:19]].columns, index=test.index)"
   ]
  },
  {
   "cell_type": "code",
   "execution_count": 13,
   "metadata": {
    "id": "XmjixH60Ur9F"
   },
   "outputs": [],
   "source": [
    "#Getting the dataset ready pd.get dummies function for dropping the dummy variables\n",
    "test_data = pd.get_dummies(updated_test_data, drop_first=True)"
   ]
  },
  {
   "cell_type": "code",
   "execution_count": 20,
   "metadata": {
    "id": "ibd-MEBNUvIP"
   },
   "outputs": [],
   "source": [
    "# Loading the trained Gradient Boosting Classifier model\n",
    "gbm_pickle = joblib.load('C:/Users/Siddhartha/Loan Eligibility Prediction using Gradient Boosting Classifier/Source Code/model/GBM_Model_version1.pkl')"
   ]
  },
  {
   "cell_type": "code",
   "execution_count": 22,
   "metadata": {
    "id": "9Bgr14kwUw7P"
   },
   "outputs": [
    {
     "name": "stdout",
     "output_type": "stream",
     "text": [
      "[1 1 1 1 1 1 1 1 1]\n"
     ]
    },
    {
     "name": "stderr",
     "output_type": "stream",
     "text": [
      "F:\\Anaconda\\envs\\LoanEligibility_py3_8\\lib\\site-packages\\sklearn\\base.py:432: UserWarning: X has feature names, but GradientBoostingClassifier was fitted without feature names\n",
      "  warnings.warn(\n"
     ]
    }
   ],
   "source": [
    "# Making predictions using the loaded Gradient Boosting Classifier model\n",
    "y_pred = gbm_pickle.predict(test_data)\n",
    "print(y_pred)"
   ]
  },
  {
   "cell_type": "code",
   "execution_count": 24,
   "metadata": {
    "id": "UlVUl9WoUyqG"
   },
   "outputs": [
    {
     "name": "stdout",
     "output_type": "stream",
     "text": [
      "[[0.44270122 0.55729878]\n",
      " [0.29316515 0.70683485]\n",
      " [0.42145883 0.57854117]\n",
      " [0.45898323 0.54101677]\n",
      " [0.24807445 0.75192555]\n",
      " [0.30432189 0.69567811]\n",
      " [0.45898323 0.54101677]\n",
      " [0.3622683  0.6377317 ]\n",
      " [0.45898323 0.54101677]]\n"
     ]
    },
    {
     "name": "stderr",
     "output_type": "stream",
     "text": [
      "F:\\Anaconda\\envs\\LoanEligibility_py3_8\\lib\\site-packages\\sklearn\\base.py:432: UserWarning: X has feature names, but GradientBoostingClassifier was fitted without feature names\n",
      "  warnings.warn(\n"
     ]
    }
   ],
   "source": [
    "# Obtaining class probabilities using the loaded Gradient Boosting Classifier model\n",
    "y_pred = gbm_pickle.predict_proba(test_data)\n",
    "print(y_pred)"
   ]
  },
  {
   "cell_type": "code",
   "execution_count": 25,
   "metadata": {
    "id": "jqMwBR84Uz_w"
   },
   "outputs": [
    {
     "name": "stdout",
     "output_type": "stream",
     "text": [
      "[['Loan Rejected' 'Loan Rejected']\n",
      " ['Loan Rejected' 'Loan Rejected']\n",
      " ['Loan Rejected' 'Loan Rejected']\n",
      " ['Loan Rejected' 'Loan Rejected']\n",
      " ['Loan Rejected' 'Loan Rejected']\n",
      " ['Loan Rejected' 'Loan Rejected']\n",
      " ['Loan Rejected' 'Loan Rejected']\n",
      " ['Loan Rejected' 'Loan Rejected']\n",
      " ['Loan Rejected' 'Loan Rejected']]\n"
     ]
    }
   ],
   "source": [
    "# Converting class probabilities to predicted loan approval status\n",
    "y_pred_1=np.where(y_pred ==0, 'Loan Approved', 'Loan Rejected')\n",
    "print(y_pred_1)"
   ]
  },
  {
   "cell_type": "code",
   "execution_count": 26,
   "metadata": {
    "id": "k-cGMFUxU1Ah"
   },
   "outputs": [],
   "source": [
    "# Adding the predicted loan status to the test dataset\n",
    "test['Loan Status']=y_pred_1\n",
    "\n",
    "# Saving the updated test dataset to a CSV file\n",
    "test.to_csv('Output_Test.csv',index=False)"
   ]
  },
  {
   "cell_type": "code",
   "execution_count": 27,
   "metadata": {
    "colab": {
     "base_uri": "https://localhost:8080/"
    },
    "executionInfo": {
     "elapsed": 582,
     "status": "ok",
     "timestamp": 1644310240851,
     "user": {
      "displayName": "Siddhi Jadhav",
      "photoUrl": "https://lh3.googleusercontent.com/a/default-user=s64",
      "userId": "08402691859170607175"
     },
     "user_tz": -330
    },
    "id": "aSMsJWZtU3Ll",
    "outputId": "5ec38bcf-a61f-4958-ad64-e5aa3f3b152b"
   },
   "outputs": [
    {
     "data": {
      "text/plain": [
       "array([['Loan Rejected', 'Loan Rejected'],\n",
       "       ['Loan Rejected', 'Loan Rejected'],\n",
       "       ['Loan Rejected', 'Loan Rejected'],\n",
       "       ['Loan Rejected', 'Loan Rejected'],\n",
       "       ['Loan Rejected', 'Loan Rejected'],\n",
       "       ['Loan Rejected', 'Loan Rejected'],\n",
       "       ['Loan Rejected', 'Loan Rejected'],\n",
       "       ['Loan Rejected', 'Loan Rejected'],\n",
       "       ['Loan Rejected', 'Loan Rejected']], dtype='<U13')"
      ]
     },
     "execution_count": 27,
     "metadata": {},
     "output_type": "execute_result"
    }
   ],
   "source": [
    "y_pred_1"
   ]
  }
 ],
 "metadata": {
  "colab": {
   "collapsed_sections": [],
   "name": "Loan_Eligibility_Prediction_using_Gradient_Boosting_Classifier_test.ipynb",
   "provenance": []
  },
  "kernelspec": {
   "display_name": "Python 3 (ipykernel)",
   "language": "python",
   "name": "python3"
  },
  "language_info": {
   "codemirror_mode": {
    "name": "ipython",
    "version": 3
   },
   "file_extension": ".py",
   "mimetype": "text/x-python",
   "name": "python",
   "nbconvert_exporter": "python",
   "pygments_lexer": "ipython3",
   "version": "3.8.16"
  }
 },
 "nbformat": 4,
 "nbformat_minor": 1
}
